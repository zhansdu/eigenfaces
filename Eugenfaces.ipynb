{
 "cells": [
  {
   "cell_type": "code",
   "execution_count": 7,
   "id": "abfd75d1",
   "metadata": {},
   "outputs": [
    {
     "name": "stdout",
     "output_type": "stream",
     "text": [
      "Original Images\n"
     ]
    },
    {
     "ename": "IndexError",
     "evalue": "list index out of range",
     "output_type": "error",
     "traceback": [
      "\u001b[0;31m---------------------------------------------------------------------------\u001b[0m",
      "\u001b[0;31mIndexError\u001b[0m                                Traceback (most recent call last)",
      "\u001b[0;32m/tmp/ipykernel_14832/3809535015.py\u001b[0m in \u001b[0;36m<module>\u001b[0;34m\u001b[0m\n\u001b[1;32m     28\u001b[0m     \u001b[0mimage\u001b[0m\u001b[0;34m.\u001b[0m\u001b[0mappend\u001b[0m\u001b[0;34m(\u001b[0m\u001b[0mim\u001b[0m\u001b[0;34m)\u001b[0m\u001b[0;34m\u001b[0m\u001b[0;34m\u001b[0m\u001b[0m\n\u001b[1;32m     29\u001b[0m \u001b[0mprint\u001b[0m\u001b[0;34m(\u001b[0m\u001b[0;34m'Original Images'\u001b[0m\u001b[0;34m)\u001b[0m\u001b[0;34m\u001b[0m\u001b[0;34m\u001b[0m\u001b[0m\n\u001b[0;32m---> 30\u001b[0;31m \u001b[0mgriddisplay\u001b[0m\u001b[0;34m(\u001b[0m\u001b[0mimage\u001b[0m\u001b[0;34m)\u001b[0m\u001b[0;34m\u001b[0m\u001b[0;34m\u001b[0m\u001b[0m\n\u001b[0m\u001b[1;32m     31\u001b[0m \u001b[0;32mfor\u001b[0m \u001b[0mi\u001b[0m \u001b[0;32min\u001b[0m \u001b[0mrange\u001b[0m\u001b[0;34m(\u001b[0m\u001b[0mlen\u001b[0m\u001b[0;34m(\u001b[0m\u001b[0mimage\u001b[0m\u001b[0;34m)\u001b[0m\u001b[0;34m)\u001b[0m\u001b[0;34m:\u001b[0m\u001b[0;34m\u001b[0m\u001b[0;34m\u001b[0m\u001b[0m\n\u001b[1;32m     32\u001b[0m     \u001b[0mp\u001b[0m\u001b[0;34m=\u001b[0m\u001b[0mimage\u001b[0m\u001b[0;34m[\u001b[0m\u001b[0mi\u001b[0m\u001b[0;34m]\u001b[0m\u001b[0;34m.\u001b[0m\u001b[0mflatten\u001b[0m\u001b[0;34m(\u001b[0m\u001b[0;34m)\u001b[0m\u001b[0;34m\u001b[0m\u001b[0;34m\u001b[0m\u001b[0m\n",
      "\u001b[0;32m/tmp/ipykernel_14832/3809535015.py\u001b[0m in \u001b[0;36mgriddisplay\u001b[0;34m(image_list)\u001b[0m\n\u001b[1;32m     17\u001b[0m     \u001b[0;32mfor\u001b[0m \u001b[0mrow\u001b[0m \u001b[0;32min\u001b[0m \u001b[0mrange\u001b[0m\u001b[0;34m(\u001b[0m\u001b[0;36m5\u001b[0m\u001b[0;34m)\u001b[0m\u001b[0;34m:\u001b[0m\u001b[0;34m\u001b[0m\u001b[0;34m\u001b[0m\u001b[0m\n\u001b[1;32m     18\u001b[0m         \u001b[0;32mfor\u001b[0m \u001b[0mcol\u001b[0m \u001b[0;32min\u001b[0m \u001b[0mrange\u001b[0m\u001b[0;34m(\u001b[0m\u001b[0;36m5\u001b[0m\u001b[0;34m)\u001b[0m\u001b[0;34m:\u001b[0m\u001b[0;34m\u001b[0m\u001b[0;34m\u001b[0m\u001b[0m\n\u001b[0;32m---> 19\u001b[0;31m             \u001b[0mresize\u001b[0m\u001b[0;34m(\u001b[0m\u001b[0mimage_list\u001b[0m\u001b[0;34m[\u001b[0m\u001b[0mk\u001b[0m\u001b[0;34m]\u001b[0m\u001b[0;34m,\u001b[0m\u001b[0;34m(\u001b[0m\u001b[0;36m100\u001b[0m\u001b[0;34m,\u001b[0m\u001b[0;36m100\u001b[0m\u001b[0;34m)\u001b[0m\u001b[0;34m)\u001b[0m\u001b[0;34m\u001b[0m\u001b[0;34m\u001b[0m\u001b[0m\n\u001b[0m\u001b[1;32m     20\u001b[0m             \u001b[0mimage_plot\u001b[0m \u001b[0;34m=\u001b[0m \u001b[0maxes_array\u001b[0m\u001b[0;34m[\u001b[0m\u001b[0mrow\u001b[0m\u001b[0;34m]\u001b[0m\u001b[0;34m[\u001b[0m\u001b[0mcol\u001b[0m\u001b[0;34m]\u001b[0m\u001b[0;34m.\u001b[0m\u001b[0mimshow\u001b[0m\u001b[0;34m(\u001b[0m\u001b[0mim\u001b[0m\u001b[0;34m,\u001b[0m\u001b[0mcmap\u001b[0m\u001b[0;34m=\u001b[0m\u001b[0mplt\u001b[0m\u001b[0;34m.\u001b[0m\u001b[0mcm\u001b[0m\u001b[0;34m.\u001b[0m\u001b[0mgray\u001b[0m\u001b[0;34m)\u001b[0m\u001b[0;34m\u001b[0m\u001b[0;34m\u001b[0m\u001b[0m\n\u001b[1;32m     21\u001b[0m             \u001b[0maxes_array\u001b[0m\u001b[0;34m[\u001b[0m\u001b[0mrow\u001b[0m\u001b[0;34m]\u001b[0m\u001b[0;34m[\u001b[0m\u001b[0mcol\u001b[0m\u001b[0;34m]\u001b[0m\u001b[0;34m.\u001b[0m\u001b[0maxis\u001b[0m\u001b[0;34m(\u001b[0m\u001b[0;34m'off'\u001b[0m\u001b[0;34m)\u001b[0m\u001b[0;34m\u001b[0m\u001b[0;34m\u001b[0m\u001b[0m\n",
      "\u001b[0;31mIndexError\u001b[0m: list index out of range"
     ]
    },
    {
     "data": {
      "image/png": "[encoded data removed]",
      "text/plain": [
       "<Figure size 360x360 with 25 Axes>"
      ]
     },
     "metadata": {
      "needs_background": "light"
     },
     "output_type": "display_data"
    }
   ],
   "source": [
    "from PIL import Image\n",
    "import scipy.stats\n",
    "import glob\n",
    "import numpy as np\n",
    "from numpy import linalg as la\n",
    "from pylab import *\n",
    "import matplotlib.pyplot as plt \n",
    "from IPython.display import display, HTML\n",
    "from skimage.transform import resize\n",
    "\n",
    "image=[]\n",
    "flattened_images  =[]\n",
    "def griddisplay(image_list):\n",
    "    fig1, axes_array = plt.subplots(5, 5)\n",
    "    fig1.set_size_inches(5,5)\n",
    "    k=0\n",
    "    for row in range(5):\n",
    "        for col in range(5):    \n",
    "            resize(image_list[k],(100,100))\n",
    "            image_plot = axes_array[row][col].imshow(im,cmap=plt.cm.gray) \n",
    "            axes_array[row][col].axis('off')\n",
    "            k +=1\n",
    "    plt.show()\n",
    "    \n",
    "for filename in glob.glob('Eigenfaces/Train/*.jpg'):\n",
    "    im=Image.open(filename)   \n",
    "    im= np.asarray(im,dtype=float)/255.0 \n",
    "    image.append(im)\n",
    "print('Original Images')\n",
    "griddisplay(image)\n",
    "for i in range(len(image)):\n",
    "    p=image[i].flatten()\n",
    "    flattened_images.append(p)\n",
    "A_transpose = np.matrix(flattened_images)\n",
    "A = np.transpose(A_transpose)\n",
    "\n",
    "mean= np.mean(A,1)\n",
    "b= mean.reshape(425,425)\n",
    "resized_mean = scipy.misc.imresize(np.asarray(b),(100,100),interp='bilinear', mode=None)\n",
    "imshow(resized_mean,cmap=plt.cm.gray)\n",
    "plt.axis('off')\n",
    "plt.title('Mean Face')\n",
    "plt.show()\n",
    "\n",
    "zero_mean =[]\n",
    "column =0\n",
    "Zero_mean_matrix= np.ones((180625,25))\n",
    "for values in flattened_images:\n",
    "    #zm = values-mean\n",
    "    zm= A[:,column] - mean\n",
    "    #print(\"z\",zm.shape)\n",
    "    zm = np.squeeze(zm)\n",
    "    Zero_mean_matrix[:,column] =zm\n",
    "    zm_images = zm.resize(425,425)\n",
    "    zero_mean.append(zm)\n",
    "    column = column +1\n",
    "print('Zero mean faces')\n",
    "griddisplay(zero_mean)\n",
    "\n",
    "d = (np.dot(np.transpose(Zero_mean_matrix),Zero_mean_matrix))/425\n",
    "u_list =[]\n",
    "w2, v2 = la.eigh(d)\n",
    "\n",
    "for ev in v2:\n",
    "    ev_transpose = np.transpose(np.matrix(ev))\n",
    "    u = np.dot(Zero_mean_matrix,ev_transpose)\n",
    "    #norms = np.linalg.norm(u, axis=0)                           \n",
    "    u = u / np.linalg.norm(u)\n",
    "    #     minu = np.min(u)\n",
    "    #     maxu = np.max(u)\n",
    "    #     u = u-float(minu)\n",
    "    #     u = u/float((maxu-minu)) \n",
    "    u_i= u.reshape(425,425)\n",
    "    u_list.append(u_i)\n",
    "\n",
    "print('eigrnfaces')\n",
    "griddisplay(u_list)\n"
   ]
  },
  {
   "cell_type": "code",
   "execution_count": null,
   "id": "0bf2ca42",
   "metadata": {},
   "outputs": [],
   "source": []
  }
 ],
 "metadata": {
  "kernelspec": {
   "display_name": "Python 3 (ipykernel)",
   "language": "python",
   "name": "python3"
  },
  "language_info": {
   "codemirror_mode": {
    "name": "ipython",
    "version": 3
   },
   "file_extension": ".py",
   "mimetype": "text/x-python",
   "name": "python",
   "nbconvert_exporter": "python",
   "pygments_lexer": "ipython3",
   "version": "3.9.7"
  }
 },
 "nbformat": 4,
 "nbformat_minor": 5
}
